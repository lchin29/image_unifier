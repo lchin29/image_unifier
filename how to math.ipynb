{
 "cells": [
  {
   "cell_type": "code",
   "execution_count": null,
   "id": "b51accee",
   "metadata": {},
   "outputs": [],
   "source": [
    "import colorsys as cs\n",
    "import numpy as np\n",
    "import matplotlib.pyplot as plt\n",
    "from PIL import Image,ImageEnhance\n",
    "from skimage import data\n",
    "from scipy import misc\n",
    " "
   ]
  },
  {
   "cell_type": "code",
   "execution_count": null,
   "id": "51cccf10",
   "metadata": {},
   "outputs": [],
   "source": [
    "source = Image.open('cat_test.jpeg')\n",
    "template = Image.open('cat_test2.jpg') \n",
    "sd = data.coffee()\n",
    "np.asarray(source)"
   ]
  },
  {
   "cell_type": "code",
   "execution_count": null,
   "id": "9d6517e7",
   "metadata": {},
   "outputs": [],
   "source": [
    "rgb_image_source = np.asarray(source)\n",
    "hls_image = [[ list(cs.rgb_to_hls(*rgb/255)) for rgb in row] for row in rgb_image]"
   ]
  },
  {
   "cell_type": "code",
   "execution_count": null,
   "id": "05691160",
   "metadata": {},
   "outputs": [],
   "source": [
    "def hls_to_rgb(r, g, b):\n",
    "  return[ color * 255 for color in list(cs.hls_to_rgb(r,g,b))]\n",
    " \n",
    "\n",
    "def adjust_hls(image, hue=1, light=1, saturation=1):\n",
    "  hls_image = [[list(cs.rgb_to_hls(*rgb/255)) for rgb in row] for row in image]\n",
    "  hls_adjusted_image = [[[hls[0]*hue,hls[1]*light,hls[2]*saturation] for hls in row] for row in hls_image]\n",
    "  back_to_rgb = [[ np.asarray(hls_to_rgb(*rgb)).astype(int) for rgb in row] for row in hls_adjusted_image]\n",
    "  return back_to_rgb\n",
    "\n",
    "def match_cdf(source):\n",
    "  values,unique_indices,counts = np.unique(source.ravel(),return_inverse = True, return_counts = True)\n",
    "  return values,unique_indices,counts\n",
    "  "
   ]
  },
  {
   "cell_type": "code",
   "execution_count": null,
   "id": "16c055bc",
   "metadata": {},
   "outputs": [],
   "source": [
    "def _match_cumulative_cdf(source, template):\n",
    "    \"\"\"\n",
    "    Return modified source array so that the cumulative density function of\n",
    "    its values matches the cumulative density function of the template.\n",
    "    \"\"\"\n",
    "    rgb_image_source = np.array(source)\n",
    "    rgb_image_template = np.array(template)\n",
    "    src_values, src_unique_indices, src_counts = np.unique(rgb_image_source.ravel(),return_inverse=True,return_counts=True)\n",
    "    tmpl_values, tmpl_counts = np.unique(rgb_image_template.ravel(), return_counts=True)\n",
    "\n",
    "    # calculate normalized quantiles for each array\n",
    "    src_quantiles = np.cumsum(src_counts) / rgb_image_source.size\n",
    "    tmpl_quantiles = np.cumsum(tmpl_counts) / rgb_image_template.size\n",
    "\n",
    "    # print(src_quantiles)\n",
    "\n",
    "    interp_a_values = np.interp(tmpl_values, src_quantiles,tmpl_quantiles)\n",
    "    print(interp_a_values)\n",
    "    print(interp_a_values[src_unique_indices])\n",
    "    return interp_a_values[src_unique_indices].reshape(rgb_image_source.shape)"
   ]
  },
  {
   "cell_type": "code",
   "execution_count": null,
   "id": "907cb288",
   "metadata": {},
   "outputs": [],
   "source": [
    "source1 = Image.open('source.png')\n",
    "reference = Image.open('reference.png')\n",
    "source = Image.open('cat_test.jpeg')\n",
    "template = Image.open('cat_test2.jpg') \n",
    "matched = _match_cumulative_cdf(source, source)\n",
    "# out_dtype = utils._supported_float_type(image.dtype)\n",
    "\n",
    "#matched_rgb = [[ list(cs.hls_to_rgb(*hls)) for hls in row] for row in matched]\n",
    "#matched.astype(out_dtype, copy=False)\n",
    "plt.imshow(matched)\n"
   ]
  },
  {
   "cell_type": "code",
   "execution_count": null,
   "id": "0ef0a548",
   "metadata": {},
   "outputs": [],
   "source": [
    "source1 = misc.imread('reference.png')"
   ]
  },
  {
   "cell_type": "code",
   "execution_count": null,
   "id": "3f8ffd2d",
   "metadata": {},
   "outputs": [],
   "source": [
    "rgb_bright = adjust_hls(rgb_image)\n",
    "image2 = plt.imshow(rgb_bright)\n",
    "image2"
   ]
  },
  {
   "cell_type": "code",
   "execution_count": null,
   "id": "280b2509",
   "metadata": {},
   "outputs": [],
   "source": [
    "\"\"\" The scikit histogram_matching function reads in a numpy array of RGB values and creates an average of the values\n",
    "Then uses the np.interp and .reshape to normalize the values. Instead of reading in RGB values, we could use the \n",
    "colorsys library to convert the RGB values to HSL values (hue, saturation, lightness). We can then pull each individual\n",
    "value to create separate tools for Hue, Saturation, and Lightness.\"\"\""
   ]
  },
  {
   "cell_type": "code",
   "execution_count": null,
   "id": "ca6b4746",
   "metadata": {},
   "outputs": [],
   "source": [
    "def calculate_cdf(histogram):\n",
    "    \"\"\"\n",
    "    This method calculates the cumulative distribution function\n",
    "    :param array histogram: The values of the histogram\n",
    "    :return: normalized_cdf: The normalized cumulative distribution function\n",
    "    :rtype: array\n",
    "    \"\"\"\n",
    "    # Get the cumulative sum of the elements\n",
    "    cdf = histogram.cumsum()\n",
    " \n",
    "    # Normalize the cdf\n",
    "    normalized_cdf = cdf / float(cdf.max())\n",
    " \n",
    "    return normalized_cdf\n",
    "\n",
    "def calculate_lookup(src_cdf, ref_cdf):\n",
    "    \"\"\"\n",
    "    This method creates the lookup table\n",
    "    :param array src_cdf: The cdf for the source image\n",
    "    :param array ref_cdf: The cdf for the reference image\n",
    "    :return: lookup_table: The lookup table\n",
    "    :rtype: array\n",
    "    \"\"\"\n",
    "    lookup_table = np.zeros(256)\n",
    "    lookup_val = 0\n",
    "    for src_pixel_val in range(len(src_cdf)):\n",
    "        lookup_val\n",
    "        for ref_pixel_val in range(len(ref_cdf)):\n",
    "            if ref_cdf[ref_pixel_val] >= src_cdf[src_pixel_val]:\n",
    "                lookup_val = ref_pixel_val\n",
    "                break\n",
    "        lookup_table[src_pixel_val] = lookup_val\n",
    "    return lookup_table\n",
    "    \n",
    "def match_histograms(src_image, ref_image):\n",
    "    \"\"\"\n",
    "    This method matches the source image histogram to the\n",
    "    reference signal\n",
    "    :param image src_image: The original source image\n",
    "    :param image  ref_image: The reference image\n",
    "    :return: image_after_matching\n",
    "    :rtype: image (array)\n",
    "    \"\"\"\n",
    "    # Split the images into the different color channels\n",
    "    # b means blue, g means green and r means red\n",
    "    src_b, src_g, src_r = cv2.split(src_image)\n",
    "    ref_b, ref_g, ref_r = cv2.split(ref_image)\n",
    " \n",
    "    # Compute the b, g, and r histograms separately\n",
    "    # The flatten() Numpy method returns a copy of the array c\n",
    "    # collapsed into one dimension.\n",
    "    src_hist_blue, bin_0 = np.histogram(src_b.flatten(), 256, [0,256])\n",
    "    src_hist_green, bin_1 = np.histogram(src_g.flatten(), 256, [0,256])\n",
    "    src_hist_red, bin_2 = np.histogram(src_r.flatten(), 256, [0,256])    \n",
    "    ref_hist_blue, bin_3 = np.histogram(ref_b.flatten(), 256, [0,256])    \n",
    "    ref_hist_green, bin_4 = np.histogram(ref_g.flatten(), 256, [0,256])\n",
    "    ref_hist_red, bin_5 = np.histogram(ref_r.flatten(), 256, [0,256])\n",
    " \n",
    "    # Compute the normalized cdf for the source and reference image\n",
    "    src_cdf_blue = calculate_cdf(src_hist_blue)\n",
    "    src_cdf_green = calculate_cdf(src_hist_green)\n",
    "    src_cdf_red = calculate_cdf(src_hist_red)\n",
    "    ref_cdf_blue = calculate_cdf(ref_hist_blue)\n",
    "    ref_cdf_green = calculate_cdf(ref_hist_green)\n",
    "    ref_cdf_red = calculate_cdf(ref_hist_red)\n",
    " \n",
    "    # Make a separate lookup table for each color\n",
    "    blue_lookup_table = calculate_lookup(src_cdf_blue, ref_cdf_blue)\n",
    "    green_lookup_table = calculate_lookup(src_cdf_green, ref_cdf_green)\n",
    "    red_lookup_table = calculate_lookup(src_cdf_red, ref_cdf_red)\n",
    " \n",
    "    # Use the lookup function to transform the colors of the original\n",
    "    # source image\n",
    "    blue_after_transform = cv2.LUT(src_b, blue_lookup_table)\n",
    "    green_after_transform = cv2.LUT(src_g, green_lookup_table)\n",
    "    red_after_transform = cv2.LUT(src_r, red_lookup_table)\n",
    " \n",
    "    # Put the image back together\n",
    "    image_after_matching = cv2.merge([\n",
    "        blue_after_transform, green_after_transform, red_after_transform])\n",
    "    image_after_matching = cv2.convertScaleAbs(image_after_matching)\n",
    " \n",
    "    return image_after_matching"
   ]
  }
 ],
 "metadata": {
  "interpreter": {
   "hash": "c8f37ef3a3873499840a92e85a0d97dcff9dd7766aa629802968fe6681fe3488"
  },
  "kernelspec": {
   "display_name": "Python 3.8.12 64-bit ('base': conda)",
   "name": "python3"
  },
  "language_info": {
   "codemirror_mode": {
    "name": "ipython",
    "version": 3
   },
   "file_extension": ".py",
   "mimetype": "text/x-python",
   "name": "python",
   "nbconvert_exporter": "python",
   "pygments_lexer": "ipython3",
   "version": "3.8.8"
  }
 },
 "nbformat": 4,
 "nbformat_minor": 5
}
